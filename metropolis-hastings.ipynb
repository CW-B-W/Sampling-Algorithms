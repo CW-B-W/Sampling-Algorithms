{
 "cells": [
  {
   "cell_type": "code",
   "execution_count": 12,
   "id": "35de57d5",
   "metadata": {},
   "outputs": [],
   "source": [
    "import numpy as np\n",
    "import matplotlib.pyplot as plt\n",
    "from scipy.special import factorial\n",
    "from scipy import stats\n",
    "from functools import partial\n",
    "import pickle\n",
    "from tqdm import tqdm"
   ]
  },
  {
   "cell_type": "markdown",
   "id": "eec829ee",
   "metadata": {},
   "source": [
    "## function definition"
   ]
  },
  {
   "cell_type": "code",
   "execution_count": 13,
   "id": "3cf1d87e",
   "metadata": {},
   "outputs": [],
   "source": [
    "def poisson_dist(x, l):\n",
    "    return np.exp(-l)*np.power(l, x)/factorial(x)\n",
    "\n",
    "def normal_dist(x, mean , sd):\n",
    "    sqrt_2pi = np.sqrt(2*np.pi)\n",
    "    prob_density = 1.0/(sqrt_2pi*sd) * np.exp(-0.5*((x-mean)/sd)**2)\n",
    "    return prob_density\n",
    "\n",
    "def uniform_dist(x, a, b):\n",
    "    return (x*0 + 1) * (1.0 / (b-a))\n",
    "\n",
    "def sin_dist(x):\n",
    "    return np.abs(np.sin(x/2)) * 0.2\n",
    "\n",
    "def sin_damping_dist(x):\n",
    "    return np.abs(np.sin(x/2)) * 0.2 * np.exp(-x/5)"
   ]
  },
  {
   "cell_type": "markdown",
   "id": "d7c366ee",
   "metadata": {},
   "source": [
    "## CheckPoint structure"
   ]
  },
  {
   "cell_type": "code",
   "execution_count": 14,
   "id": "a1a7db6a",
   "metadata": {},
   "outputs": [],
   "source": [
    "class CheckPoint:\n",
    "    x                = None\n",
    "    target_dist      = None\n",
    "    target_dist_name = 'poisson'\n",
    "    \n",
    "    def __init__(self, it, samples, prob_dist):\n",
    "        plt.style.use('seaborn-pastel')\n",
    "        self.it = it\n",
    "        self.samples = np.array(samples)\n",
    "        self.prob_dist = prob_dist.copy()\n",
    "        \n",
    "    def plot_compare(self):\n",
    "        x = CheckPoint.x\n",
    "        target_dist = CheckPoint.target_dist\n",
    "        target_dist_name = CheckPoint.target_dist_name\n",
    "        it = self.it\n",
    "        samples = self.samples\n",
    "        prob_dist = self.prob_dist\n",
    "        \n",
    "        if x is None or target_dist is None:\n",
    "            raise Exception('target_dist is None')\n",
    "            \n",
    "        plt.figure()\n",
    "        plt.title(str(it) + \"-th iteration\")\n",
    "        \n",
    "        plt.plot(x, target_dist, label=target_dist_name) \n",
    "        plt.fill_between(x, target_dist, 0, alpha=1)\n",
    "        \n",
    "        plt.plot(x, prob_dist, label=\"current P.D.\") \n",
    "        plt.fill_between(x, prob_dist, 0, alpha=0.2)\n",
    "        \n",
    "        plt.xlim(0, x[-1]), plt.ylim(0, 1), plt.xlabel(\"x\"), plt.ylabel(\"y\"), plt.legend();\n",
    "        plt.savefig('MH-iter%d.jpg' % it, dpi=300)\n",
    "        \n",
    "    def plot_compare_hist(self, max_iter = None):\n",
    "        x = CheckPoint.x\n",
    "        target_dist = CheckPoint.target_dist\n",
    "        target_dist_name = CheckPoint.target_dist_name\n",
    "        it = self.it\n",
    "        samples = self.samples\n",
    "        prob_dist = self.prob_dist\n",
    "        \n",
    "        if x is None or target_dist is None:\n",
    "            raise Exception('target_dist is None')\n",
    "            \n",
    "        plt.figure()\n",
    "        plt.title(str(it) + \"-th iteration\")\n",
    "        \n",
    "        plt.plot(x, target_dist, label=target_dist_name) \n",
    "        plt.fill_between(x, target_dist, 0, alpha=1)\n",
    "        \n",
    "        if max_iter is not None:\n",
    "            samples_dummy = np.ones(max_iter - samples.size) * -1\n",
    "            samples = np.concatenate((samples_dummy, samples))\n",
    "        plt.hist(samples, bins = 100, density = True, label=\"current samples\")\n",
    "        \n",
    "        plt.xlim(0, x[-1]), plt.ylim(0, 1), plt.xlabel(\"x\"), plt.ylabel(\"y\"), plt.legend();\n",
    "        if max_iter is None:\n",
    "            plt.savefig('MH-iter%d-bins.jpg' % it, dpi=300)\n",
    "        else:\n",
    "            plt.savefig('MH-iter%d-bins-norm.jpg' % it, dpi=300)"
   ]
  },
  {
   "cell_type": "markdown",
   "id": "370c9709",
   "metadata": {},
   "source": [
    "## Metropolis-Hastings on Poisson Distribution with Normal Distribution"
   ]
  },
  {
   "cell_type": "code",
   "execution_count": 18,
   "id": "8a152226",
   "metadata": {},
   "outputs": [
    {
     "name": "stderr",
     "output_type": "stream",
     "text": [
      "100%|██████████| 1/1 [00:00<00:00, 309.31it/s]"
     ]
    },
    {
     "name": "stdout",
     "output_type": "stream",
     "text": [
      "Save checkpoint at iter 0, state = 15.000000\n",
      "# of accept: 1\n",
      "# of reject: 0\n"
     ]
    },
    {
     "name": "stderr",
     "output_type": "stream",
     "text": [
      "\n"
     ]
    }
   ],
   "source": [
    "disable_acceptance_ratio = False\n",
    "\n",
    "points_per_x = 1000\n",
    "x_min        = 0\n",
    "x_max        = 20\n",
    "\n",
    "poisson_lambda = 5\n",
    "normal_std     = 1\n",
    "\n",
    "x          = np.linspace(x_min, x_max, (x_max-x_min)*points_per_x)\n",
    "y_poisson  = poisson_dist(x, 5)\n",
    "\n",
    "CheckPoint.x                = x\n",
    "CheckPoint.target_dist      = y_poisson\n",
    "CheckPoint.target_dist_name = 'poisson'\n",
    "\n",
    "state_sampled = []\n",
    "max_iter = 10000\n",
    "checkpoints_iter = set([\n",
    "    0, 5, 10, 20, 30, 40, 50, 60, 70, 80, 90,\n",
    "    100, 200, 500,\n",
    "    1000, 2000, 3000, 5000, 8000,\n",
    "    10000, 20000, 30000, 40000, 50000, 100000, 200000, max_iter])\n",
    "checkpoints = []\n",
    "reject_cnt = 0\n",
    "accept_cnt = 0\n",
    "\n",
    "init_state = 15.0\n",
    "state = init_state\n",
    "y_prob = np.zeros(x.size)\n",
    "\n",
    "for t in tqdm(range(max_iter+1)):\n",
    "    \n",
    "    state_sampled.append(state)\n",
    "    \n",
    "    # (x, y) coordinate of current state\n",
    "    state_xidx = np.where(x <= state)[0][-1]\n",
    "    state_yval = y_poisson[state_xidx]\n",
    "    \n",
    "    # acceptance ratio = (P_nxt / P_now) * (g_nxt_to_now / g_now_to_nxt)\n",
    "    P_nxt        = y_poisson\n",
    "    P_now        = state_yval\n",
    "    g_nxt_to_now = normal_dist(state, x, normal_std)\n",
    "    g_now_to_nxt = normal_dist(x, state, normal_std) + 1E-9 # prevent divide by zero\n",
    "    acceptance_ratio = (P_nxt / P_now) * (g_nxt_to_now / g_now_to_nxt)\n",
    "    acceptance_ratio[acceptance_ratio > 1] = 1\n",
    "    if disable_acceptance_ratio:\n",
    "        acceptance_ratio = 1\n",
    "    \n",
    "    # calculate overall P.D.\n",
    "    y_proposal = normal_dist(x, state, normal_std)\n",
    "    y_prob = ((y_prob * t) + (y_proposal * acceptance_ratio)) / (t+1)\n",
    "    # normalize y_prob\n",
    "    y_prob = y_prob * 1000.0 / np.sum(y_prob)\n",
    "    \n",
    "    # show figure\n",
    "    if t in checkpoints_iter:\n",
    "        print(\"Save checkpoint at iter %d, state = %f\" % (t, state))\n",
    "        \n",
    "        checkpoint = CheckPoint(t, state_sampled, y_prob)\n",
    "        checkpoints.append(checkpoint)\n",
    "    \n",
    "    # update next\n",
    "    state_nxt = -1\n",
    "    # if state_nxt < 0, then state_nxt_yval = 0, i.e., accept_prob = 0\n",
    "    while (state_nxt < 0):\n",
    "        state_nxt = np.random.normal(state, normal_std)\n",
    "    state_nxt_xidx = np.where(x <= state_nxt)[0][-1]\n",
    "    state_nxt_yval = y_poisson[state_nxt_xidx]\n",
    "    accept_prob = (state_nxt_yval / state_yval) * (normal_dist(state, state_nxt, normal_std) / normal_dist(state_nxt, state, normal_std))\n",
    "    if disable_acceptance_ratio:\n",
    "        accept_prob = 1\n",
    "    if accept_prob >= 1:\n",
    "        state = state_nxt\n",
    "        accept_cnt += 1\n",
    "    else:\n",
    "        u = np.random.uniform()\n",
    "        if (u <= accept_prob):\n",
    "            state = state_nxt\n",
    "            accept_cnt += 1\n",
    "        else:\n",
    "            state = state\n",
    "            reject_cnt += 1\n",
    "\n",
    "print(\"# of accept: %d\" % accept_cnt)\n",
    "print(\"# of reject: %d\" % reject_cnt)\n"
   ]
  },
  {
   "cell_type": "markdown",
   "id": "c1f7a132",
   "metadata": {},
   "source": [
    "## Metropolis-Hastings on Poisson Distribution with Uniform Distribution"
   ]
  },
  {
   "cell_type": "code",
   "execution_count": 20,
   "id": "c6c19559",
   "metadata": {},
   "outputs": [
    {
     "name": "stderr",
     "output_type": "stream",
     "text": [
      "100%|██████████| 1/1 [00:00<00:00, 577.01it/s]"
     ]
    },
    {
     "name": "stdout",
     "output_type": "stream",
     "text": [
      "Save checkpoint at iter 0, state = 10.000000\n",
      "# of accept: 1\n",
      "# of reject: 0\n"
     ]
    },
    {
     "name": "stderr",
     "output_type": "stream",
     "text": [
      "\n"
     ]
    }
   ],
   "source": [
    "# points_per_x = 1000\n",
    "# x_min        = 0\n",
    "# x_max        = 20\n",
    "\n",
    "# poisson_lambda = 5\n",
    "\n",
    "# x          = np.linspace(x_min, x_max, (x_max-x_min)*points_per_x)\n",
    "# y_poisson  = poisson_dist(x, 5)\n",
    "\n",
    "# CheckPoint.x                = x\n",
    "# CheckPoint.target_dist      = y_poisson\n",
    "# CheckPoint.target_dist_name = 'poisson'\n",
    "\n",
    "# state_sampled = []\n",
    "# max_iter = 10000\n",
    "# checkpoints_iter = set([\n",
    "#     0, 5, 10, 20, 30, 40, 50, 60, 70, 80, 90,\n",
    "#     100, 200, 500,\n",
    "#     1000, 2000, 3000, 5000, 8000,\n",
    "#     10000, 20000, 30000, 40000, 50000, max_iter])\n",
    "# checkpoints = []\n",
    "# reject_cnt = 0\n",
    "# accept_cnt = 0\n",
    "\n",
    "# init_state = 10.0\n",
    "# state = init_state\n",
    "# y_prob = np.zeros(x.size)\n",
    "\n",
    "# for t in tqdm(range(max_iter+1)):\n",
    "    \n",
    "#     state_sampled.append(state)\n",
    "    \n",
    "#     # (x, y) coordinate of current state\n",
    "#     state_xidx = np.where(x <= state)[0][-1]\n",
    "#     state_yval = y_poisson[state_xidx]\n",
    "    \n",
    "#     # acceptance ratio = (P_nxt / P_now) * (g_nxt_to_now / g_now_to_nxt)\n",
    "#     P_nxt        = y_poisson\n",
    "#     P_now        = state_yval\n",
    "#     # g_nxt_to_now = uniform_dist(x, x_min, x_max)\n",
    "#     # g_now_to_nxt = uniform_dist(x, x_min, x_max)\n",
    "#     # acceptance_ratio = (P_nxt / P_now) * (g_nxt_to_now / g_now_to_nxt)\n",
    "#     acceptance_ratio = (P_nxt / P_now)\n",
    "#     acceptance_ratio[acceptance_ratio > 1] = 1\n",
    "    \n",
    "#     # calculate overall P.D.\n",
    "#     y_proposal = uniform_dist(x, x_min, x_max)\n",
    "#     y_prob = ((y_prob * t) + (y_proposal * acceptance_ratio)) / (t+1)\n",
    "#     # normalize y_prob\n",
    "#     y_prob = y_prob * 1000.0 / np.sum(y_prob)\n",
    "    \n",
    "#     # show figure\n",
    "#     if t in checkpoints_iter:\n",
    "#         print(\"Save checkpoint at iter %d, state = %f\" % (t, state))\n",
    "        \n",
    "#         checkpoint = CheckPoint(t, state_sampled, y_prob)\n",
    "#         checkpoints.append(checkpoint)\n",
    "    \n",
    "#     # update next\n",
    "#     state_nxt = -1\n",
    "#     # if state_nxt < 0, then state_nxt_yval = 0, i.e., accept_prob = 0\n",
    "#     while (state_nxt < 0):\n",
    "#         state_nxt = np.random.uniform(0, 20)\n",
    "#     state_nxt_xidx = np.where(x <= state_nxt)[0][-1]\n",
    "#     state_nxt_yval = y_poisson[state_nxt_xidx]\n",
    "#     # accept_prob = (state_nxt_yval / state_yval) * (uniform_dist(0, x_min, x_max) / uniform_dist(0, x_min, x_max))\n",
    "#     accept_prob = (state_nxt_yval / state_yval)\n",
    "#     if accept_prob >= 1:\n",
    "#         state = state_nxt\n",
    "#         accept_cnt += 1\n",
    "#     else:\n",
    "#         u = np.random.uniform()\n",
    "#         if (u <= accept_prob):\n",
    "#             state = state_nxt\n",
    "#             accept_cnt += 1\n",
    "#         else:\n",
    "#             state = state\n",
    "#             reject_cnt += 1\n",
    "\n",
    "# print(\"# of accept: %d\" % accept_cnt)\n",
    "# print(\"# of reject: %d\" % reject_cnt)\n"
   ]
  },
  {
   "cell_type": "markdown",
   "id": "f4227d82",
   "metadata": {},
   "source": [
    "## Metropolis-Hastings on Damping Sine Function with Normal Distribution"
   ]
  },
  {
   "cell_type": "code",
   "execution_count": 467,
   "id": "e0c48523",
   "metadata": {},
   "outputs": [
    {
     "name": "stderr",
     "output_type": "stream",
     "text": [
      "  0%|          | 606/500001 [00:00<02:41, 3098.47it/s]"
     ]
    },
    {
     "name": "stdout",
     "output_type": "stream",
     "text": [
      "Save checkpoint at iter 0, state = 15.000000\n",
      "Save checkpoint at iter 5, state = 14.683157\n",
      "Save checkpoint at iter 10, state = 15.322992\n",
      "Save checkpoint at iter 20, state = 15.110753\n",
      "Save checkpoint at iter 30, state = 14.673574\n",
      "Save checkpoint at iter 40, state = 14.682558\n",
      "Save checkpoint at iter 50, state = 14.600156\n",
      "Save checkpoint at iter 60, state = 14.942685\n",
      "Save checkpoint at iter 70, state = 15.052497\n",
      "Save checkpoint at iter 80, state = 15.008342\n",
      "Save checkpoint at iter 90, state = 15.299841\n",
      "Save checkpoint at iter 100, state = 15.295787\n",
      "Save checkpoint at iter 200, state = 14.222166\n",
      "Save checkpoint at iter 500, state = 15.792882\n"
     ]
    },
    {
     "name": "stderr",
     "output_type": "stream",
     "text": [
      "  0%|          | 1638/500001 [00:00<02:28, 3367.30it/s]"
     ]
    },
    {
     "name": "stdout",
     "output_type": "stream",
     "text": [
      "Save checkpoint at iter 1000, state = 15.531687\n"
     ]
    },
    {
     "name": "stderr",
     "output_type": "stream",
     "text": [
      "  1%|          | 2659/500001 [00:00<02:26, 3383.52it/s]"
     ]
    },
    {
     "name": "stdout",
     "output_type": "stream",
     "text": [
      "Save checkpoint at iter 2000, state = 16.486715\n"
     ]
    },
    {
     "name": "stderr",
     "output_type": "stream",
     "text": [
      "  1%|          | 3680/500001 [00:01<02:26, 3376.65it/s]"
     ]
    },
    {
     "name": "stdout",
     "output_type": "stream",
     "text": [
      "Save checkpoint at iter 3000, state = 13.411319\n"
     ]
    },
    {
     "name": "stderr",
     "output_type": "stream",
     "text": [
      "  1%|          | 5387/500001 [00:01<02:28, 3328.58it/s]"
     ]
    },
    {
     "name": "stdout",
     "output_type": "stream",
     "text": [
      "Save checkpoint at iter 5000, state = 9.742307\n"
     ]
    },
    {
     "name": "stderr",
     "output_type": "stream",
     "text": [
      "  2%|▏         | 8410/500001 [00:02<02:26, 3357.01it/s]"
     ]
    },
    {
     "name": "stdout",
     "output_type": "stream",
     "text": [
      "Save checkpoint at iter 8000, state = 7.846575\n"
     ]
    },
    {
     "name": "stderr",
     "output_type": "stream",
     "text": [
      "  2%|▏         | 10435/500001 [00:03<02:25, 3366.54it/s]"
     ]
    },
    {
     "name": "stdout",
     "output_type": "stream",
     "text": [
      "Save checkpoint at iter 10000, state = 9.975678\n"
     ]
    },
    {
     "name": "stderr",
     "output_type": "stream",
     "text": [
      "  4%|▍         | 20583/500001 [00:06<02:23, 3344.61it/s]"
     ]
    },
    {
     "name": "stdout",
     "output_type": "stream",
     "text": [
      "Save checkpoint at iter 20000, state = 8.289802\n"
     ]
    },
    {
     "name": "stderr",
     "output_type": "stream",
     "text": [
      "  6%|▌         | 30402/500001 [00:09<02:19, 3359.61it/s]"
     ]
    },
    {
     "name": "stdout",
     "output_type": "stream",
     "text": [
      "Save checkpoint at iter 30000, state = 5.378208\n"
     ]
    },
    {
     "name": "stderr",
     "output_type": "stream",
     "text": [
      "  8%|▊         | 40670/500001 [00:12<02:13, 3429.76it/s]"
     ]
    },
    {
     "name": "stdout",
     "output_type": "stream",
     "text": [
      "Save checkpoint at iter 40000, state = 5.030749\n"
     ]
    },
    {
     "name": "stderr",
     "output_type": "stream",
     "text": [
      " 10%|█         | 50675/500001 [00:14<02:11, 3410.15it/s]"
     ]
    },
    {
     "name": "stdout",
     "output_type": "stream",
     "text": [
      "Save checkpoint at iter 50000, state = 3.652072\n"
     ]
    },
    {
     "name": "stderr",
     "output_type": "stream",
     "text": [
      " 20%|██        | 100590/500001 [00:29<01:58, 3380.34it/s]"
     ]
    },
    {
     "name": "stdout",
     "output_type": "stream",
     "text": [
      "Save checkpoint at iter 100000, state = 4.560385\n"
     ]
    },
    {
     "name": "stderr",
     "output_type": "stream",
     "text": [
      " 40%|████      | 200380/500001 [00:58<01:28, 3383.31it/s]"
     ]
    },
    {
     "name": "stdout",
     "output_type": "stream",
     "text": [
      "Save checkpoint at iter 200000, state = 4.136842\n"
     ]
    },
    {
     "name": "stderr",
     "output_type": "stream",
     "text": [
      " 60%|██████    | 300576/500001 [01:28<00:59, 3329.40it/s]"
     ]
    },
    {
     "name": "stdout",
     "output_type": "stream",
     "text": [
      "Save checkpoint at iter 300000, state = 7.405660\n"
     ]
    },
    {
     "name": "stderr",
     "output_type": "stream",
     "text": [
      " 80%|████████  | 400388/500001 [01:57<00:30, 3311.29it/s]"
     ]
    },
    {
     "name": "stdout",
     "output_type": "stream",
     "text": [
      "Save checkpoint at iter 400000, state = 9.534544\n"
     ]
    },
    {
     "name": "stderr",
     "output_type": "stream",
     "text": [
      "100%|██████████| 500001/500001 [02:26<00:00, 3415.67it/s]"
     ]
    },
    {
     "name": "stdout",
     "output_type": "stream",
     "text": [
      "Save checkpoint at iter 500000, state = 2.899345\n",
      "# of accept: 489813\n",
      "# of reject: 10188\n"
     ]
    },
    {
     "name": "stderr",
     "output_type": "stream",
     "text": [
      "\n"
     ]
    }
   ],
   "source": [
    "# disable_acceptance_ratio = False\n",
    "\n",
    "# points_per_x = 1000\n",
    "# x_min        = 0\n",
    "# x_max        = 20\n",
    "\n",
    "# poisson_lambda = 5\n",
    "# normal_std     = 0.1\n",
    "\n",
    "# x      = np.linspace(x_min, x_max, (x_max-x_min)*points_per_x)\n",
    "# # y_sine = sin_dist(x)\n",
    "# y_sine = sin_damping_dist(x)\n",
    "# y_sine[np.where(x<=np.pi*2*3)[0][-1]:] = 0\n",
    "# y_sine = y_sine * 1000.0 / np.sum(y_sine)\n",
    "\n",
    "# CheckPoint.x                = x\n",
    "# CheckPoint.target_dist      = y_sine\n",
    "# CheckPoint.target_dist_name = 'damped-sine'\n",
    "\n",
    "# state_sampled = []\n",
    "# max_iter = 500000\n",
    "# checkpoints_iter = set([\n",
    "#     0, 5, 10, 20, 30, 40, 50, 60, 70, 80, 90,\n",
    "#     100, 200, 500,\n",
    "#     1000, 2000, 3000, 5000, 8000,\n",
    "#     10000, 20000, 30000, 40000, 50000, 100000, 200000, 300000, 400000, 500000,\n",
    "#     max_iter])\n",
    "# checkpoints = []\n",
    "# reject_cnt = 0\n",
    "# accept_cnt = 0\n",
    "\n",
    "# init_state = 15.0\n",
    "# state = init_state\n",
    "# y_prob = np.zeros(x.size)\n",
    "\n",
    "# for t in tqdm(range(max_iter+1)):\n",
    "    \n",
    "#     state_sampled.append(state)\n",
    "    \n",
    "#     # (x, y) coordinate of current state\n",
    "#     state_xidx = np.where(x <= state)[0][-1]\n",
    "#     state_yval = y_sine[state_xidx]\n",
    "    \n",
    "#     # acceptance ratio = (P_nxt / P_now) * (g_nxt_to_now / g_now_to_nxt)\n",
    "#     P_nxt        = y_sine\n",
    "#     P_now        = state_yval\n",
    "#     g_nxt_to_now = normal_dist(state, x, normal_std)\n",
    "#     g_now_to_nxt = normal_dist(x, state, normal_std) + 1E-9 # prevent divide by zero\n",
    "#     acceptance_ratio = (P_nxt / P_now) * (g_nxt_to_now / g_now_to_nxt)\n",
    "#     acceptance_ratio[acceptance_ratio > 1] = 1\n",
    "#     if disable_acceptance_ratio:\n",
    "#         acceptance_ratio = 1\n",
    "    \n",
    "#     # calculate overall P.D.\n",
    "#     y_proposal = normal_dist(x, state, normal_std)\n",
    "#     y_prob = ((y_prob * t) + (y_proposal * acceptance_ratio)) / (t+1)\n",
    "#     # normalize y_prob\n",
    "#     y_prob = y_prob * 1000.0 / np.sum(y_prob)\n",
    "    \n",
    "#     # show figure\n",
    "#     if t in checkpoints_iter:\n",
    "#         print(\"Save checkpoint at iter %d, state = %f\" % (t, state))\n",
    "        \n",
    "#         checkpoint = CheckPoint(t, state_sampled, y_prob)\n",
    "#         checkpoints.append(checkpoint)\n",
    "    \n",
    "#     # update next\n",
    "#     state_nxt = -1\n",
    "#     # if state_nxt < 0, then state_nxt_yval = 0, i.e., accept_prob = 0\n",
    "#     while (state_nxt < 0):\n",
    "#         state_nxt = np.random.normal(state, normal_std)\n",
    "#     state_nxt_xidx = np.where(x <= state_nxt)[0][-1]\n",
    "#     state_nxt_yval = y_sine[state_nxt_xidx]\n",
    "#     accept_prob = (state_nxt_yval / state_yval) * (normal_dist(state, state_nxt, normal_std) / normal_dist(state_nxt, state, normal_std))\n",
    "#     if disable_acceptance_ratio:\n",
    "#         accept_prob = 1\n",
    "#     if accept_prob >= 1:\n",
    "#         state = state_nxt\n",
    "#         accept_cnt += 1\n",
    "#     else:\n",
    "#         u = np.random.uniform()\n",
    "#         if (u <= accept_prob):\n",
    "#             state = state_nxt\n",
    "#             accept_cnt += 1\n",
    "#         else:\n",
    "#             state = state\n",
    "#             reject_cnt += 1\n",
    "\n",
    "# print(\"# of accept: %d\" % accept_cnt)\n",
    "# print(\"# of reject: %d\" % reject_cnt)\n"
   ]
  },
  {
   "cell_type": "markdown",
   "id": "05cb7c06",
   "metadata": {},
   "source": [
    "## Checkpoints plotting"
   ]
  },
  {
   "cell_type": "code",
   "execution_count": 21,
   "id": "e3b330ce",
   "metadata": {},
   "outputs": [
    {
     "data": {
      "image/png": "[encoded data removed]",
      "text/plain": [
       "<Figure size 432x288 with 1 Axes>"
      ]
     },
     "metadata": {
      "needs_background": "light"
     },
     "output_type": "display_data"
    },
    {
     "data": {
      "image/png": "[encoded data removed]",
      "text/plain": [
       "<Figure size 432x288 with 1 Axes>"
      ]
     },
     "metadata": {
      "needs_background": "light"
     },
     "output_type": "display_data"
    },
    {
     "data": {
      "image/png": "[encoded data removed]",
      "text/plain": [
       "<Figure size 432x288 with 1 Axes>"
      ]
     },
     "metadata": {
      "needs_background": "light"
     },
     "output_type": "display_data"
    }
   ],
   "source": [
    "for checkpoint in checkpoints:\n",
    "    checkpoint.plot_compare()\n",
    "    \n",
    "for checkpoint in checkpoints:\n",
    "    checkpoint.plot_compare_hist()\n",
    "\n",
    "for checkpoint in checkpoints:\n",
    "    checkpoint.plot_compare_hist(max_iter)"
   ]
  }
 ],
 "metadata": {
  "kernelspec": {
   "display_name": "Python 3",
   "language": "python",
   "name": "python3"
  },
  "language_info": {
   "codemirror_mode": {
    "name": "ipython",
    "version": 3
   },
   "file_extension": ".py",
   "mimetype": "text/x-python",
   "name": "python",
   "nbconvert_exporter": "python",
   "pygments_lexer": "ipython3",
   "version": "3.9.2"
  }
 },
 "nbformat": 4,
 "nbformat_minor": 5
}
